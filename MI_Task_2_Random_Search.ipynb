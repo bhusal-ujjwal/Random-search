{
  "nbformat": 4,
  "nbformat_minor": 0,
  "metadata": {
    "colab": {
      "provenance": []
    },
    "kernelspec": {
      "name": "python3",
      "display_name": "Python 3"
    },
    "language_info": {
      "name": "python"
    }
  },
  "cells": [
    {
      "cell_type": "code",
      "source": [
        "# Task 2 - Random search\n",
        "# Implement Random search algorithm. Implementation could be done in either Mathematica or Python.\n",
        "# Test it using test functions from Task 1.\n",
        "\n",
        "# Your algorithm must have these inputs:\n",
        "# Test function\n",
        "# Input domain of the test function\n",
        "# Dimension size\n",
        "# Number of iterations\n",
        "\n",
        "# The algorithm must provide at the output:\n",
        "# Best found value of objective function f(x)\n",
        "# The value of x of the best found f(x)\n",
        "# Convergence graph of the development of the f(x)"
      ],
      "metadata": {
        "id": "owRhrlQmBECw"
      },
      "execution_count": null,
      "outputs": []
    },
    {
      "cell_type": "code",
      "execution_count": null,
      "metadata": {
        "id": "L8eYFst67-u-"
      },
      "outputs": [],
      "source": [
        "#Implementation of Random Search Algorithm for various Test Functions for single-objective optimization\n",
        "import random\n",
        "import numpy as np\n",
        "import matplotlib.pyplot as plt\n",
        "\n",
        "def random_search(obj_func, bounds, dimensions, num_iter):\n",
        "    \"\"\"\n",
        "    Random search algorithm to optimize a given objective function.\n",
        "\n",
        "    Parameters:\n",
        "    obj_func (function): Objective function to be optimized.\n",
        "        A callable function that takes a list of real-valued inputs and returns a scalar value.\n",
        "    bounds (list of tuples): Bounds of the input domain of the objective function.\n",
        "        A list of tuples containing the lower and upper bounds for each dimension of the input domain.\n",
        "        For example, if the objective function has two inputs, bounds could be [(0, 1), (0, 2)].\n",
        "    dimensions (int): Dimension of the input domain of the objective function.\n",
        "        An integer representing the number of inputs to the objective function.\n",
        "    num_iter (int): Number of iterations for the algorithm.\n",
        "        An integer representing the number of iterations to run the algorithm for.\n",
        "\n",
        "    Returns:\n",
        "    tuple: Best found value of objective function, value of x of the best found f(x),\n",
        "           and convergence graph of the development of the f(x)\n",
        "        A tuple containing the following:\n",
        "        - The best found value of the objective function (a scalar)\n",
        "        - The inputs to the objective function that produced the best value (a list of length `dimensions`)\n",
        "        - A list of length `num_iter` containing the best found value of the objective function at each iteration\n",
        "    \"\"\"\n",
        "    # initialize best_f to infinity so that the first value will always be accepted\n",
        "    best_f = np.inf\n",
        "    best_x = None\n",
        "    convergence = []\n",
        "\n",
        "    # loop through the number of iterations\n",
        "    for i in range(num_iter):\n",
        "        # generate a random point within the given bounds for each input dimension\n",
        "        x = [random.uniform(bounds[j][0], bounds[j][1]) for j in range(dimensions)]\n",
        "        # evaluate the objective function at the current point\n",
        "        f = obj_func(x)\n",
        "        # if the current value is better than the previous best, update the best values\n",
        "        if f < best_f:\n",
        "            best_f = f\n",
        "            best_x = x\n",
        "        # append the current best value to the convergence list\n",
        "        convergence.append(best_f)\n",
        "\n",
        "    return best_f, best_x, convergence"
      ]
    },
    {
      "cell_type": "code",
      "source": [],
      "metadata": {
        "id": "P_afVKOX8A1g"
      },
      "execution_count": null,
      "outputs": []
    },
    {
      "cell_type": "code",
      "source": [
        "# Test function 1 - Sphere Function\n",
        "import random\n",
        "import numpy as np\n",
        "import matplotlib.pyplot as plt\n",
        "\n",
        "def sphere(x):\n",
        "    \"\"\"\n",
        "    Sphere function to be optimized.\n",
        "\n",
        "    Parameters:\n",
        "    x (list): List of inputs to the function.\n",
        "\n",
        "    Returns:\n",
        "    float: Output of the sphere function.\n",
        "    \"\"\"\n",
        "    return sum([i**2 for i in x])\n",
        "\n",
        "bounds = [(-5.12, 5.12)]*5 # Bounds of the input domain of the sphere function\n",
        "dimensions = 5 # Dimension of the input domain of the sphere function\n",
        "num_iter = 1000 # Number of iterations for the random search algorithm\n",
        "\n",
        "best_f, best_x, convergence = random_search(sphere, bounds, dimensions, num_iter) # Random search algorithm to optimize sphere function\n",
        "\n",
        "print(\"Best found value of objective function f(x):\", best_f) # Print the best found value of the objective function\n",
        "print(\"The value of x of the best found f(x):\", best_x) # Print the value of x of the best found f(x)\n",
        "plt.plot(convergence) # Plot the convergence graph of the development of f(x)\n",
        "plt.title(\"Sphere Function - Convergence Plot\")\n",
        "plt.xlabel(\"Iteration\")\n",
        "plt.ylabel(\"Best f(x)\")\n",
        "plt.show() # Show the plot of the convergence graph"
      ],
      "metadata": {
        "colab": {
          "base_uri": "https://localhost:8080/",
          "height": 330
        },
        "id": "JnR86Zml8Bgb",
        "outputId": "103491ca-bd91-4825-9d62-baefd3669229"
      },
      "execution_count": null,
      "outputs": [
        {
          "output_type": "stream",
          "name": "stdout",
          "text": [
            "Best found value of objective function f(x): 2.1188017876133443\n",
            "The value of x of the best found f(x): [-0.0005524460797126096, -0.0015724721472771819, 0.5077430868576274, 1.162092497388068, -0.7145187156475821]\n"
          ]
        },
        {
          "output_type": "display_data",
          "data": {
            "text/plain": [
              "<Figure size 432x288 with 1 Axes>"
            ],
            "image/png": "[encoded data removed]"
          },
          "metadata": {
            "needs_background": "light"
          }
        }
      ]
    },
    {
      "cell_type": "code",
      "source": [],
      "metadata": {
        "id": "uWyc5wCa9G7H"
      },
      "execution_count": null,
      "outputs": []
    },
    {
      "cell_type": "code",
      "source": [
        "# Test function 2 - Rosenbrock Function\n",
        "import random\n",
        "import numpy as np\n",
        "import matplotlib.pyplot as plt\n",
        "\n",
        "def rosenbrock(x):\n",
        "    \"\"\"\n",
        "    Rosenbrock function to be optimized.\n",
        "\n",
        "    Parameters:\n",
        "    x (list): Input values for the function.\n",
        "\n",
        "    Returns:\n",
        "    float: Output value of the function.\n",
        "    \"\"\"\n",
        "    return sum([100*(x[i+1]-x[i]**2)**2 + (1-x[i])**2 for i in range(len(x)-1)])\n",
        "\n",
        "bounds = [(-5, 10)]*2\n",
        "dimensions = 2\n",
        "num_iter = 1000\n",
        "\n",
        "best_f, best_x, convergence = random_search(rosenbrock, bounds, dimensions, num_iter)\n",
        "\n",
        "print(\"Best found value of objective function f(x):\", best_f)\n",
        "print(\"The value of x of the best found f(x):\", best_x)\n",
        "plt.plot(convergence)\n",
        "plt.title(\"Rosenbrock Function - Convergence Plot\")\n",
        "plt.xlabel(\"Iteration\")\n",
        "plt.ylabel(\"Best f(x)\")\n",
        "plt.show()"
      ],
      "metadata": {
        "colab": {
          "base_uri": "https://localhost:8080/",
          "height": 330
        },
        "id": "4ZQW8di58HJ0",
        "outputId": "199e3605-f174-41de-bb6f-4d36066288ce"
      },
      "execution_count": null,
      "outputs": [
        {
          "output_type": "stream",
          "name": "stdout",
          "text": [
            "Best found value of objective function f(x): 0.13218896267187444\n",
            "The value of x of the best found f(x): [1.2302139677254607, 1.4852856011858364]\n"
          ]
        },
        {
          "output_type": "display_data",
          "data": {
            "text/plain": [
              "<Figure size 432x288 with 1 Axes>"
            ],
            "image/png": "[encoded data removed]"
          },
          "metadata": {
            "needs_background": "light"
          }
        }
      ]
    },
    {
      "cell_type": "code",
      "source": [],
      "metadata": {
        "id": "haxr0Sse8MtN"
      },
      "execution_count": null,
      "outputs": []
    },
    {
      "cell_type": "code",
      "source": [
        "# Test function 3 - Rastrigin Function\n",
        "import random\n",
        "import numpy as np\n",
        "import matplotlib.pyplot as plt\n",
        "\n",
        "# Rastrigin Function: accepts an n-dimensional input vector 'x'\n",
        "# and returns the value of the Rastrigin function at that point\n",
        "def rastrigin(x):\n",
        "    return 10*len(x) + sum([(i**2 - 10*np.cos(2*np.pi*i)) for i in x])\n",
        "\n",
        "# Define search space for the function\n",
        "bounds = [(-5.12, 5.12)]*5\n",
        "dimensions = 5\n",
        "num_iter = 1000\n",
        "\n",
        "# Perform random search optimization\n",
        "best_f, best_x, convergence = random_search(rastrigin, bounds, dimensions, num_iter)\n",
        "\n",
        "# Print the results\n",
        "print(\"Best found value of objective function f(x):\", best_f)\n",
        "print(\"The value of x of the best found f(x):\", best_x)\n",
        "\n",
        "# Plot the convergence graph\n",
        "plt.plot(convergence)\n",
        "plt.title(\"Rastrigin Function - Convergence Plot\")\n",
        "plt.xlabel(\"Iteration\")\n",
        "plt.ylabel(\"Best f(x)\")\n",
        "plt.show()"
      ],
      "metadata": {
        "colab": {
          "base_uri": "https://localhost:8080/",
          "height": 330
        },
        "id": "iw3FFhoI8cHz",
        "outputId": "3a419169-4f84-43e3-ed5a-99993b1238c7"
      },
      "execution_count": null,
      "outputs": [
        {
          "output_type": "stream",
          "name": "stdout",
          "text": [
            "Best found value of objective function f(x): 30.272409778805677\n",
            "The value of x of the best found f(x): [-1.1879648528658424, 2.0079612553897395, -0.86817446837461, 0.17741435772766767, -2.9994906971331603]\n"
          ]
        },
        {
          "output_type": "display_data",
          "data": {
            "text/plain": [
              "<Figure size 432x288 with 1 Axes>"
            ],
            "image/png": "[encoded data removed]"
          },
          "metadata": {
            "needs_background": "light"
          }
        }
      ]
    },
    {
      "cell_type": "code",
      "source": [],
      "metadata": {
        "id": "IEnl4Ayj9Ja6"
      },
      "execution_count": null,
      "outputs": []
    },
    {
      "cell_type": "code",
      "source": [
        "# Test function 4 - Griewank Function\n",
        "import random\n",
        "import numpy as np\n",
        "import matplotlib.pyplot as plt\n",
        "\n",
        "# Define the Griewank function\n",
        "def griewank(x):\n",
        "    return 1 + sum([(i**2)/4000 for i in x]) - np.prod([np.cos(i/np.sqrt(j+1)) for j,i in enumerate(x)])\n",
        "\n",
        "# Define the search space bounds, dimensions and number of iterations\n",
        "bounds = [(-600, 600)]*10\n",
        "dimensions = 10\n",
        "num_iter = 1000\n",
        "\n",
        "# Perform random search to find the best minimum value and corresponding x\n",
        "best_f, best_x, convergence = random_search(griewank, bounds, dimensions, num_iter)\n",
        "\n",
        "# Print the best found value and corresponding x\n",
        "print(\"Best found value of objective function f(x):\", best_f)\n",
        "print(\"The value of x of the best found f(x):\", best_x)\n",
        "\n",
        "# Plot the convergence of the best found f(x) over iterations\n",
        "plt.plot(convergence)\n",
        "plt.title(\"Griewank Function - Convergence Plot\")\n",
        "plt.xlabel(\"Iteration\")\n",
        "plt.ylabel(\"Best f(x)\")\n",
        "plt.show()"
      ],
      "metadata": {
        "colab": {
          "base_uri": "https://localhost:8080/",
          "height": 350
        },
        "id": "F1vL-I6T8fHM",
        "outputId": "4d01df5d-94e4-4d3a-9272-bc95f5570fcf"
      },
      "execution_count": null,
      "outputs": [
        {
          "output_type": "stream",
          "name": "stdout",
          "text": [
            "Best found value of objective function f(x): 46.43000980622878\n",
            "The value of x of the best found f(x): [250.88023262003253, 189.64634073631055, -223.19133592606204, 0.5403279026152177, 49.07554621068084, -38.982623110408326, 26.590980673666422, 168.05464245058192, -26.611393100554437, 12.839611671223224]\n"
          ]
        },
        {
          "output_type": "display_data",
          "data": {
            "text/plain": [
              "<Figure size 432x288 with 1 Axes>"
            ],
            "image/png": "[encoded data removed]"
          },
          "metadata": {
            "needs_background": "light"
          }
        }
      ]
    },
    {
      "cell_type": "code",
      "source": [],
      "metadata": {
        "id": "k6xobM788kxs"
      },
      "execution_count": null,
      "outputs": []
    },
    {
      "cell_type": "code",
      "source": [
        "# Test function 5 - Ackley Function\n",
        "def ackley(x):\n",
        "    # Calculate sum of square term\n",
        "    sum_sq_term = -20 * np.exp(-0.2 * np.sqrt(sum([xi**2 for xi in x]) / len(x)))\n",
        "    # Calculate cosine term\n",
        "    cos_term = -np.exp(sum([np.cos(2*np.pi*xi) for xi in x]) / len(x))\n",
        "    # Return the final result\n",
        "    return sum_sq_term + cos_term + 20 + np.e\n",
        "\n",
        "# Set bounds, dimensions, and number of iterations\n",
        "bounds = [(-32.768, 32.768)]*5\n",
        "dimensions = 5\n",
        "num_iter = 1000\n",
        "\n",
        "# Run random search algorithm for Ackley function\n",
        "best_f, best_x, convergence = random_search(ackley, bounds, dimensions, num_iter)\n",
        "\n",
        "# Print results and plot convergence graph\n",
        "print(\"Best found value of objective function f(x):\", best_f)\n",
        "print(\"The value of x of the best found f(x):\", best_x)\n",
        "plt.plot(convergence)\n",
        "plt.title(\"Ackley Function - Convergence Plot\")\n",
        "plt.xlabel(\"Iteration\")\n",
        "plt.ylabel(\"Best f(x)\")\n",
        "plt.show()"
      ],
      "metadata": {
        "colab": {
          "base_uri": "https://localhost:8080/",
          "height": 330
        },
        "id": "k63Ng3kV9L7k",
        "outputId": "ceaf1b9f-5e0b-4592-926b-c487c00adfe9"
      },
      "execution_count": null,
      "outputs": [
        {
          "output_type": "stream",
          "name": "stdout",
          "text": [
            "Best found value of objective function f(x): 16.417457603250107\n",
            "The value of x of the best found f(x): [6.206787987982146, -6.85998271676273, -8.252198536879334, -3.2903549180109337, 7.385139724504626]\n"
          ]
        },
        {
          "output_type": "display_data",
          "data": {
            "text/plain": [
              "<Figure size 432x288 with 1 Axes>"
            ],
            "image/png": "[encoded data removed]"
          },
          "metadata": {
            "needs_background": "light"
          }
        }
      ]
    },
    {
      "cell_type": "code",
      "source": [],
      "metadata": {
        "id": "kFHdnMmn9zoK"
      },
      "execution_count": null,
      "outputs": []
    },
    {
      "cell_type": "code",
      "source": [
        "# Test function 6 - Styblinski-Tang Function\n",
        "def styblinski_tang(x):\n",
        "    # Calculate term 1\n",
        "    term1 = sum([(i**4) - (16 * i**2) + (5 * i) for i in x])\n",
        "    # Calculate term 2\n",
        "    term2 = 0.5 * sum([i**2 for i in x])\n",
        "    # Return the final result\n",
        "    return term1 + term2\n",
        "\n",
        "# Set bounds, dimensions, and number of iterations\n",
        "bounds = [(-5, 5)]*2\n",
        "dimensions = 2\n",
        "num_iter = 1000\n",
        "\n",
        "# Run random search algorithm for Styblinski-Tang function\n",
        "best_f, best_x, convergence = random_search(styblinski_tang, bounds, dimensions, num_iter)\n",
        "\n",
        "# Print results and plot convergence graph\n",
        "print(\"Best found value of objective function f(x):\", best_f)\n",
        "print(\"The value of x of the best found f(x):\", best_x)\n",
        "plt.plot(convergence)\n",
        "plt.title(\"Styblinski-Tang Function - Convergence Plot\")\n",
        "plt.xlabel(\"Iteration\")\n",
        "plt.ylabel(\"Best f(x)\")\n",
        "plt.show()"
      ],
      "metadata": {
        "colab": {
          "base_uri": "https://localhost:8080/",
          "height": 330
        },
        "id": "o9_AqpwT91Ng",
        "outputId": "6f13a818-2782-486e-c1de-a9a3901663c3"
      },
      "execution_count": null,
      "outputs": [
        {
          "output_type": "stream",
          "name": "stdout",
          "text": [
            "Best found value of objective function f(x): -147.3904018056783\n",
            "The value of x of the best found f(x): [-2.9809613507618393, -2.9765007392859166]\n"
          ]
        },
        {
          "output_type": "display_data",
          "data": {
            "text/plain": [
              "<Figure size 432x288 with 1 Axes>"
            ],
            "image/png": "[encoded data removed]"
          },
          "metadata": {
            "needs_background": "light"
          }
        }
      ]
    },
    {
      "cell_type": "code",
      "source": [],
      "metadata": {
        "id": "SFjiOPb7918S"
      },
      "execution_count": null,
      "outputs": []
    }
  ]
}